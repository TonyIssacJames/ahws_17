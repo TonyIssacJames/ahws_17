{
 "cells": [
  {
   "cell_type": "code",
   "execution_count": 1,
   "metadata": {},
   "outputs": [
    {
     "name": "stderr",
     "output_type": "stream",
     "text": [
      "Using Theano backend.\n"
     ]
    }
   ],
   "source": [
    "from keras.models import Sequential\n",
    "from keras.layers import Dense, Dropout, Activation, Flatten,\\\n",
    "Conv2D, MaxPooling2D\n",
    "import skimage\n",
    "import os\n",
    "import numpy as np\n",
    "from keras.preprocessing.image import ImageDataGenerator\n",
    "from skimage.io import imread\n",
    "from skimage.transform import resize"
   ]
  },
  {
   "cell_type": "code",
   "execution_count": 2,
   "metadata": {
    "collapsed": true
   },
   "outputs": [],
   "source": [
    "train_path = './nuts_n_bolts/train'\n",
    "test_path = './nuts_n_bolts/test'\n",
    "val_path = './nuts_n_bolts/val'"
   ]
  },
  {
   "cell_type": "code",
   "execution_count": 3,
   "metadata": {
    "collapsed": true
   },
   "outputs": [],
   "source": [
    "# Construct a model in keras for nuts_and_bolts classfication\n",
    "# The model consists of two convolutional layers followed by Relu\n",
    "# \n",
    "model = Sequential()\n",
    "model.add(Conv2D(32, (3, 3), input_shape=(50,65,3),activation='relu'))\n",
    "model.add(Conv2D(32,(3,3),activation='relu'))\n",
    "model.add(MaxPooling2D(pool_size=(2,2)))\n",
    "model.add(Dropout(0.25))\n",
    "model.add(Flatten())\n",
    "\n",
    "model.add(Dense(128, activation='relu'))\n",
    "model.add(Dropout(0.5))\n",
    "model.add(Dense(2, activation='softmax'))\n",
    "\n",
    "model.compile(loss='sparse_categorical_crossentropy',\n",
    "             optimizer='adam',\n",
    "             metrics=['accuracy'])"
   ]
  },
  {
   "cell_type": "code",
   "execution_count": 4,
   "metadata": {},
   "outputs": [
    {
     "name": "stdout",
     "output_type": "stream",
     "text": [
      "Found 48 images belonging to 2 classes.\n"
     ]
    }
   ],
   "source": [
    "batch_size = 25\n",
    "train_datagen = ImageDataGenerator(\n",
    "        rescale=1./255,\n",
    "        shear_range=0.2,\n",
    "        zoom_range=0.2,\n",
    "        horizontal_flip=True)\n",
    "train_generator = train_datagen.flow_from_directory(\n",
    "        train_path,  # this is the target directory\n",
    "        target_size=(50, 65),  # all images will be resized to 150x150\n",
    "        batch_size=batch_size,\n",
    "        classes = ['nuts','bolts'],\n",
    "        class_mode='binary')  # since we use binary_crossentropy loss, we need binary labels\n"
   ]
  },
  {
   "cell_type": "code",
   "execution_count": 5,
   "metadata": {},
   "outputs": [
    {
     "name": "stdout",
     "output_type": "stream",
     "text": [
      "Found 9 images belonging to 2 classes.\n"
     ]
    }
   ],
   "source": [
    "batch_size = 2\n",
    "val_datagen = ImageDataGenerator(\n",
    "        rescale=1./255,\n",
    "        shear_range=0.2,\n",
    "        zoom_range=0.2,\n",
    "        horizontal_flip=True)\n",
    "val_generator = train_datagen.flow_from_directory(\n",
    "        val_path,  # this is the target directory\n",
    "        target_size=(50, 65),  # all images will be resized to 50x65\n",
    "        batch_size=batch_size,\n",
    "        classes = ['nuts','bolts'],\n",
    "        class_mode='binary')  # since we use binary_crossentropy loss, we need binary labels\n"
   ]
  },
  {
   "cell_type": "code",
   "execution_count": null,
   "metadata": {},
   "outputs": [
    {
     "name": "stderr",
     "output_type": "stream",
     "text": [
      "WARNING (theano.gof.compilelock): Overriding existing lock by dead process '9116' (I am process '9900')\n"
     ]
    },
    {
     "name": "stdout",
     "output_type": "stream",
     "text": [
      "Epoch 1/5\n",
      "50/50 [==============================] - 28s - loss: 0.6306 - acc: 0.7653 - val_loss: 0.4322 - val_acc: 0.8222\n",
      "Epoch 2/5\n",
      "50/50 [==============================] - 27s - loss: 0.1564 - acc: 0.9394 - val_loss: 0.7469 - val_acc: 0.7000\n",
      "Epoch 3/5\n",
      "50/50 [==============================] - 27s - loss: 0.0880 - acc: 0.9725 - val_loss: 0.8873 - val_acc: 0.6889\n",
      "Epoch 4/5\n",
      "16/50 [========>.....................] - ETA: 17s - loss: 0.1093 - acc: 0.9633"
     ]
    }
   ],
   "source": [
    "model.fit_generator(\n",
    "        train_generator,\n",
    "        steps_per_epoch=100 // batch_size,\n",
    "        epochs=5,\n",
    "        validation_data=val_generator,\n",
    "        validation_steps=100 // batch_size)"
   ]
  },
  {
   "cell_type": "code",
   "execution_count": 8,
   "metadata": {},
   "outputs": [
    {
     "name": "stdout",
     "output_type": "stream",
     "text": [
      "[('bolt_1.jpg', 'nuts'), ('bolt_3.jpg', 'bolts'), ('bolt_4.jpg', 'bolts'), ('bolt_2.jpg', 'bolts'), ('nut_1.jpg', 'nuts'), ('nut_2.jpg', 'nuts'), ('nut_3.jpg', 'nuts'), ('nut_4.jpg', 'nuts')]\n"
     ]
    },
    {
     "name": "stderr",
     "output_type": "stream",
     "text": [
      "/home/senthil/.virtualenvs/anthill/lib/python3.4/site-packages/skimage/transform/_warps.py:84: UserWarning: The default mode, 'constant', will be changed to 'reflect' in skimage 0.15.\n",
      "  warn(\"The default mode, 'constant', will be changed to 'reflect' in \"\n"
     ]
    }
   ],
   "source": [
    "bolt_path = './nuts_n_bolts/test/bolts/'\n",
    "nut_path = './nuts_n_bolts/test/nuts'\n",
    "image_paths = [os.path.join(bolt_path, img_name) for img_name in os.listdir(bolt_path)]\n",
    "image_paths += [os.path.join(nut_path, img_name) for img_name in os.listdir(nut_path)]\n",
    "test_images = np.zeros((len(image_paths),50,65,3))\n",
    "\n",
    "for ind,image_name in enumerate(image_paths):\n",
    "    test_images[ind, :, :, :] = resize(imread(image_name), (50,65,3))\n",
    "    \n",
    "prediction = model.predict(test_images)\n",
    "labels = ['nuts' if img_pred[0] > img_pred[1] else 'bolts' for img_pred in prediction]\n",
    "image_names = [os.path.basename(path) for path in image_paths]\n",
    "matched_prediction = list(zip(image_names, labels))\n",
    "print(matched_prediction)"
   ]
  },
  {
   "cell_type": "code",
   "execution_count": null,
   "metadata": {
    "collapsed": true
   },
   "outputs": [],
   "source": []
  }
 ],
 "metadata": {
  "kernelspec": {
   "display_name": "Python 3",
   "language": "python",
   "name": "python3"
  },
  "language_info": {
   "codemirror_mode": {
    "name": "ipython",
    "version": 3
   },
   "file_extension": ".py",
   "mimetype": "text/x-python",
   "name": "python",
   "nbconvert_exporter": "python",
   "pygments_lexer": "ipython3",
   "version": "3.4.3"
  }
 },
 "nbformat": 4,
 "nbformat_minor": 2
}
