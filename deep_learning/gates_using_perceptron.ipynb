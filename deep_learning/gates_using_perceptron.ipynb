{
 "cells": [
  {
   "cell_type": "code",
   "execution_count": 70,
   "metadata": {},
   "outputs": [],
   "source": [
    "# declare inputs and initialsie weights\n",
    "import numpy as np\n",
    "inputs = np.array([[0,0],[0,1],[1,0],[1,1]])\n",
    "outputs = np.array([0,1,1,1])\n",
    "weights = np.array([0,0,0])\n",
    "lr = 1.0\n",
    "epochs = 4"
   ]
  },
  {
   "cell_type": "code",
   "execution_count": 71,
   "metadata": {},
   "outputs": [],
   "source": [
    "# Learn weigths for neuron \n",
    "for i in range(epochs):\n",
    "  for gt_ip, exp_op in zip(inputs, outputs):\n",
    "    ip_with_bias = np.append(gt_ip, 1.0)\n",
    "    gt_op = np.sum(weights * ip_with_bias)\n",
    "    bin_op = 1 if gt_op >=0 else 0\n",
    "    delta = exp_op - bin_op\n",
    "    update = lr * delta\n",
    "    weights = weights + ip_with_bias * update"
   ]
  },
  {
   "cell_type": "code",
   "execution_count": 72,
   "metadata": {},
   "outputs": [
    {
     "data": {
      "text/plain": [
       "array([ 1.,  1., -1.])"
      ]
     },
     "execution_count": 72,
     "metadata": {},
     "output_type": "execute_result"
    }
   ],
   "source": [
    "weights"
   ]
  },
  {
   "cell_type": "code",
   "execution_count": null,
   "metadata": {
    "collapsed": true
   },
   "outputs": [],
   "source": []
  }
 ],
 "metadata": {
  "kernelspec": {
   "display_name": "Python 3",
   "language": "python",
   "name": "python3"
  },
  "language_info": {
   "codemirror_mode": {
    "name": "ipython",
    "version": 3
   },
   "file_extension": ".py",
   "mimetype": "text/x-python",
   "name": "python",
   "nbconvert_exporter": "python",
   "pygments_lexer": "ipython3",
   "version": "3.4.3"
  }
 },
 "nbformat": 4,
 "nbformat_minor": 2
}
