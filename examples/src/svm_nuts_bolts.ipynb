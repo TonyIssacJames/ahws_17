{
 "cells": [
  {
   "cell_type": "code",
   "execution_count": 55,
   "metadata": {},
   "outputs": [],
   "source": [
    "import numpy as np\n",
    "from skimage import io, color, transform"
   ]
  },
  {
   "cell_type": "code",
   "execution_count": 56,
   "metadata": {
    "collapsed": true
   },
   "outputs": [],
   "source": [
    "def resize_image(img, size, padding=255):\n",
    "    '''\n",
    "    Resize the given image to specified size\n",
    "    '''\n",
    "    # Append zeros or ones based on the choice of padding\n",
    "    # to maintain the aspect ratio of the image\n",
    "    rows, cols = img.shape[:2]\n",
    "    max_size = max(rows, cols)\n",
    "    canvas = np.ones((max_size, max_size), np.uint8) * padding\n",
    "    \n",
    "    # Place the actual image at the center of the canvas\n",
    "    c_x, c_y = max_size / 2, max_size / 2\n",
    "    x_beg = max(0, c_x - (cols / 2))\n",
    "    y_beg = max(0, c_y - (rows / 2))\n",
    "    x_end, y_end = x_beg + cols, y_beg + rows\n",
    "    canvas[y_beg: y_end, x_beg: x_end] = img\n",
    "        \n",
    "    # Resize the image and write to op_dir_path specified\n",
    "    reszd_img = transform.resize(canvas, (size, size))\n",
    "    reszd_img = np.asarray(reszd_img * 255, np.uint8)\n",
    "    return reszd_img"
   ]
  },
  {
   "cell_type": "code",
   "execution_count": 57,
   "metadata": {
    "collapsed": true
   },
   "outputs": [],
   "source": [
    "def read_data(csv_file_path):\n",
    "    '''\n",
    "    Read the training data and return X and y\n",
    "    Returns:\n",
    "        X = Training samples (m - samples of n features)\n",
    "        y = Lables corresponding to each sample (size - m)\n",
    "    '''\n",
    "    data = np.loadtxt(csv_file_path, delimiter=',')\n",
    "    rows, cols = data.shape\n",
    "    y = data[:, -1].astype(np.int)\n",
    "    X = data[:, :cols-1]\n",
    "    return X, y"
   ]
  },
  {
   "cell_type": "code",
   "execution_count": 58,
   "metadata": {
    "collapsed": true
   },
   "outputs": [],
   "source": [
    "from sklearn import svm"
   ]
  },
  {
   "cell_type": "code",
   "execution_count": 59,
   "metadata": {
    "collapsed": true
   },
   "outputs": [],
   "source": [
    "def train_svm(train_data_file):\n",
    "    '''\n",
    "    Train an SVM model for the given X and y\n",
    "    '''\n",
    "    clf = svm.SVC()\n",
    "    \n",
    "    # Get the training data\n",
    "    X, y = read_data(train_data_file)\n",
    "    clf.fit(X, y)\n",
    "    return clf"
   ]
  },
  {
   "cell_type": "code",
   "execution_count": 60,
   "metadata": {
    "collapsed": true
   },
   "outputs": [],
   "source": [
    "import pickle"
   ]
  },
  {
   "cell_type": "code",
   "execution_count": 61,
   "metadata": {
    "collapsed": true
   },
   "outputs": [],
   "source": [
    "def test_svm(model, test_data_file):\n",
    "    '''\n",
    "    Test the trained model with the test data\n",
    "    '''\n",
    "    X, y = read_data(test_data_file)\n",
    "    pred_acc_list = []\n",
    "    for sample, label in zip(X, y):\n",
    "        pred = model.predict(sample.reshape(1, -1))[0]\n",
    "        pred_acc_list.append(int(pred) == int(label))\n",
    "    accuracy = sum(pred_acc_list) / float(len(pred_acc_list)) * 100\n",
    "    print 'The Acccuracy of the model is = ', accuracy\n",
    "    return accuracy"
   ]
  },
  {
   "cell_type": "code",
   "execution_count": 62,
   "metadata": {
    "collapsed": true
   },
   "outputs": [],
   "source": [
    "def nut_or_bolt(model, img_file_path):\n",
    "    '''\n",
    "    Given an image file, predicts and returns the kind\n",
    "    Returns:\n",
    "        Nut or Bolt (a string)\n",
    "    '''\n",
    "    img = io.imread(img_file_path)\n",
    "    img = color.rgb2gray(img)\n",
    "    img = np.asarray(img * 255, np.uint8)\n",
    "    reszd_img = resize_image(img, 50).astype(np.float) / 255.0\n",
    "    \n",
    "    ip_data = reszd_img.flatten()\n",
    "    pred = model.predict(ip_data.reshape(1, -1))\n",
    "    print pred\n",
    "    result = 'Nut' if not pred[0] else 'Bolt'\n",
    "    return result"
   ]
  },
  {
   "cell_type": "code",
   "execution_count": 63,
   "metadata": {},
   "outputs": [
    {
     "name": "stdout",
     "output_type": "stream",
     "text": [
      "[0]\n",
      "Nut\n",
      "The Acccuracy of the model is =  92.0792079208\n"
     ]
    }
   ],
   "source": [
    "train_data_file = '/home/dhivakar/work/learning/events/anthill17/data/nuts_and_bolts_train.csv'\n",
    "model_file_path = '/home/dhivakar/work/learning/events/anthill17/models/nut_n_bolt.pkl'\n",
    "test_img_file = '/home/dhivakar/work/learning/events/anthill17/data/test/0015.jpg'\n",
    "\n",
    "# Train the model and store it in a file. It can be loaded anytime later\n",
    "model = train_svm(train_data_file)\n",
    "pickle.dump(model, open(model_file_path, 'w'))\n",
    "\n",
    "# Take an image and show the prediction + image\n",
    "loaded_model = pickle.load(open(model_file_path, 'r'))\n",
    "result = nut_or_bolt(loaded_model, test_img_file)\n",
    "print result\n",
    "\n",
    "# Calculate the accuracy of the model\n",
    "accuracy = test_svm(loaded_model, train_data_file)"
   ]
  },
  {
   "cell_type": "code",
   "execution_count": null,
   "metadata": {
    "collapsed": true
   },
   "outputs": [],
   "source": []
  }
 ],
 "metadata": {
  "kernelspec": {
   "display_name": "Python 2",
   "language": "python",
   "name": "python2"
  },
  "language_info": {
   "codemirror_mode": {
    "name": "ipython",
    "version": 2
   },
   "file_extension": ".py",
   "mimetype": "text/x-python",
   "name": "python",
   "nbconvert_exporter": "python",
   "pygments_lexer": "ipython2",
   "version": "2.7.6"
  }
 },
 "nbformat": 4,
 "nbformat_minor": 2
}
