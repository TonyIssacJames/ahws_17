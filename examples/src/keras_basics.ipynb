{
 "cells": [
  {
   "cell_type": "markdown",
   "metadata": {},
   "source": [
    "# Basics of MLP\n",
    "- Objective: create vanilla neural networks (i.e., Multilayer perceptrons) for simple regression/classification tasks with Keras"
   ]
  },
  {
   "cell_type": "markdown",
   "metadata": {},
   "source": [
    "## MLP Structures\n",
    "- Each MLP model is consisted of one input layer, several hidden layers, and one output layer\n",
    "- Number of neurons in each layer is not limited\n",
    "<img src=\"http://cs231n.github.io/assets/nn1/neural_net.jpeg\" style=\"width: 300px\"/>\n",
    "<br>\n",
    "<center>**MLP with one hidden layer**</center>\n",
    "- Number of input neurons: 3\n",
    "- Number of hidden neurons: 4\n",
    "- Number of output neurons: 2\n"
   ]
  },
  {
   "cell_type": "markdown",
   "metadata": {},
   "source": [
    "<img src=\"http://cs231n.github.io/assets/nn1/neural_net2.jpeg\" style=\"width: 500px\"/>\n",
    "<br>\n",
    "<center>**MLP with two hidden layers**</center>\n",
    "- Number of input neurons: 3\n",
    "- Number of hidden neurons: (4, 4)\n",
    "- Number of output neurons: 1\n"
   ]
  },
  {
   "cell_type": "markdown",
   "metadata": {},
   "source": [
    "## MLP for Regression tasks\n",
    "- When the target (**y**) is continuous (real)\n",
    "- For loss function and evaluation metric, mean squared error (MSE) is commonly used"
   ]
  },
  {
   "cell_type": "code",
   "execution_count": 1,
   "metadata": {
    "collapsed": false
   },
   "outputs": [
    {
     "name": "stderr",
     "output_type": "stream",
     "text": [
      "Using Theano backend.\n"
     ]
    }
   ],
   "source": [
    "#from sklearn.datasets import load_boston\n",
    "from keras.datasets import boston_housing\n",
    "import matplotlib.pyplot as plt\n",
    "%matplotlib inline  \n",
    "#from keras.datasets import cifar10"
   ]
  },
  {
   "cell_type": "code",
   "execution_count": 2,
   "metadata": {
    "collapsed": false
   },
   "outputs": [],
   "source": [
    "#dataset=load_boston()\n",
    "#X,Y=dataset.data,dataset.target\n",
    "#(X_train, y_train), (X_test, y_test) = (X[:19],Y[:19]),(X[19:],Y[19:])\n",
    "(X_train, y_train), (X_test, y_test) = boston_housing.load_data()"
   ]
  },
  {
   "cell_type": "markdown",
   "metadata": {},
   "source": [
    "### Dataset Description\n",
    "- Boston housing dataset has total 506 data instances (404 training & 102 test)\n",
    "- 13 attributes (features) to predict \"the median values of the houses at a location\"\n",
    "- Doc: https://keras.io/datasets/"
   ]
  },
  {
   "cell_type": "code",
   "execution_count": 3,
   "metadata": {
    "collapsed": false
   },
   "outputs": [
    {
     "name": "stdout",
     "output_type": "stream",
     "text": [
      "(404, 13)\n",
      "(102, 13)\n",
      "(404,)\n",
      "(102,)\n"
     ]
    }
   ],
   "source": [
    "print(X_train.shape)\n",
    "print(X_test.shape)\n",
    "print(y_train.shape)\n",
    "print(y_test.shape)"
   ]
  },
  {
   "cell_type": "markdown",
   "metadata": {},
   "source": [
    "### 1. Creating a model\n",
    "- Keras model object can be created with Sequential class\n",
    "- At the outset, the model is empty per se. It is completed by **'adding'** additional layers and compilation\n",
    "- Doc: https://keras.io/models/sequential/"
   ]
  },
  {
   "cell_type": "code",
   "execution_count": 4,
   "metadata": {
    "collapsed": true
   },
   "outputs": [],
   "source": [
    "from keras.models import Sequential"
   ]
  },
  {
   "cell_type": "markdown",
   "metadata": {},
   "source": [
    "### 1-1. Adding layers\n",
    "- Keras layers can be **added** to the model\n",
    "- Adding layers are like stacking lego blocks one by one\n",
    "- Doc: https://keras.io/layers/core/"
   ]
  },
  {
   "cell_type": "code",
   "execution_count": 5,
   "metadata": {
    "collapsed": true
   },
   "outputs": [],
   "source": [
    "model = Sequential()"
   ]
  },
  {
   "cell_type": "code",
   "execution_count": 6,
   "metadata": {
    "collapsed": true
   },
   "outputs": [],
   "source": [
    "from keras.layers import Activation, Dense"
   ]
  },
  {
   "cell_type": "code",
   "execution_count": 7,
   "metadata": {
    "collapsed": true
   },
   "outputs": [],
   "source": [
    "# Keras model with two hidden layer with 10 neurons each \n",
    "model.add(Dense(10, input_shape = (13,)))    # Input layer => input_shape should be explicitly designated\n",
    "model.add(Activation('sigmoid'))\n",
    "model.add(Dense(10))                         # Hidden layer => only output dimension should be designated\n",
    "model.add(Activation('sigmoid'))\n",
    "model.add(Dense(10))                         # Hidden layer => only output dimension should be designated\n",
    "model.add(Activation('sigmoid'))\n",
    "model.add(Dense(1))                          # Output layer => output dimension = 1 since it is regression problem"
   ]
  },
  {
   "cell_type": "code",
   "execution_count": 8,
   "metadata": {
    "collapsed": true
   },
   "outputs": [],
   "source": [
    "# This is equivalent to the above code block\n",
    "model.add(Dense(10, input_shape = (13,), activation = 'sigmoid'))\n",
    "model.add(Dense(10, activation = 'sigmoid'))\n",
    "model.add(Dense(10, activation = 'sigmoid'))\n",
    "model.add(Dense(1))"
   ]
  },
  {
   "cell_type": "markdown",
   "metadata": {},
   "source": [
    "### 1-2. Model compile\n",
    "- Keras model should be \"compiled\" prior to training\n",
    "- Types of loss (function) and optimizer should be designated\n",
    "    - Doc (optimizers): https://keras.io/optimizers/\n",
    "    - Doc (losses): https://keras.io/losses/"
   ]
  },
  {
   "cell_type": "code",
   "execution_count": 9,
   "metadata": {
    "collapsed": true
   },
   "outputs": [],
   "source": [
    "from keras import optimizers"
   ]
  },
  {
   "cell_type": "code",
   "execution_count": 10,
   "metadata": {
    "collapsed": true
   },
   "outputs": [],
   "source": [
    "sgd = optimizers.SGD(lr = 0.01)    # stochastic gradient descent optimizer"
   ]
  },
  {
   "cell_type": "code",
   "execution_count": 11,
   "metadata": {
    "collapsed": true
   },
   "outputs": [],
   "source": [
    "model.compile(optimizer = sgd, loss = 'mean_squared_error', metrics = ['mse'])    # for regression problems, mean squared error (MSE) is often employed"
   ]
  },
  {
   "cell_type": "markdown",
   "metadata": {},
   "source": [
    "### Summary of the model"
   ]
  },
  {
   "cell_type": "code",
   "execution_count": 12,
   "metadata": {
    "collapsed": false,
    "scrolled": false
   },
   "outputs": [
    {
     "name": "stdout",
     "output_type": "stream",
     "text": [
      "_________________________________________________________________\n",
      "Layer (type)                 Output Shape              Param #   \n",
      "=================================================================\n",
      "dense_1 (Dense)              (None, 10)                140       \n",
      "_________________________________________________________________\n",
      "activation_1 (Activation)    (None, 10)                0         \n",
      "_________________________________________________________________\n",
      "dense_2 (Dense)              (None, 10)                110       \n",
      "_________________________________________________________________\n",
      "activation_2 (Activation)    (None, 10)                0         \n",
      "_________________________________________________________________\n",
      "dense_3 (Dense)              (None, 10)                110       \n",
      "_________________________________________________________________\n",
      "activation_3 (Activation)    (None, 10)                0         \n",
      "_________________________________________________________________\n",
      "dense_4 (Dense)              (None, 1)                 11        \n",
      "_________________________________________________________________\n",
      "dense_5 (Dense)              (None, 10)                20        \n",
      "_________________________________________________________________\n",
      "dense_6 (Dense)              (None, 10)                110       \n",
      "_________________________________________________________________\n",
      "dense_7 (Dense)              (None, 10)                110       \n",
      "_________________________________________________________________\n",
      "dense_8 (Dense)              (None, 1)                 11        \n",
      "=================================================================\n",
      "Total params: 622\n",
      "Trainable params: 622\n",
      "Non-trainable params: 0\n",
      "_________________________________________________________________\n"
     ]
    }
   ],
   "source": [
    "model.summary()"
   ]
  },
  {
   "cell_type": "markdown",
   "metadata": {},
   "source": [
    "### 2. Training\n",
    "- Training the model with training data provided"
   ]
  },
  {
   "cell_type": "code",
   "execution_count": 13,
   "metadata": {
    "collapsed": false,
    "scrolled": true
   },
   "outputs": [
    {
     "name": "stdout",
     "output_type": "stream",
     "text": [
      "Epoch 1/100\n",
      "404/404 [==============================] - 0s - loss: 352.1949 - mean_squared_error: 352.1949     \n",
      "Epoch 2/100\n",
      "404/404 [==============================] - 0s - loss: 91.4385 - mean_squared_error: 91.4385       \n",
      "Epoch 3/100\n",
      "404/404 [==============================] - 0s - loss: 85.3684 - mean_squared_error: 85.3684     \n",
      "Epoch 4/100\n",
      "404/404 [==============================] - 0s - loss: 84.8774 - mean_squared_error: 84.8774       \n",
      "Epoch 5/100\n",
      "404/404 [==============================] - 0s - loss: 85.2561 - mean_squared_error: 85.2561     \n",
      "Epoch 6/100\n",
      "404/404 [==============================] - 0s - loss: 85.1725 - mean_squared_error: 85.1725     \n",
      "Epoch 7/100\n",
      "404/404 [==============================] - 0s - loss: 86.0081 - mean_squared_error: 86.0081       \n",
      "Epoch 8/100\n",
      "404/404 [==============================] - 0s - loss: 85.0795 - mean_squared_error: 85.0795       \n",
      "Epoch 9/100\n",
      "404/404 [==============================] - 0s - loss: 84.8657 - mean_squared_error: 84.8657     \n",
      "Epoch 10/100\n",
      "404/404 [==============================] - 0s - loss: 84.8592 - mean_squared_error: 84.8592     \n",
      "Epoch 11/100\n",
      "404/404 [==============================] - 0s - loss: 84.8417 - mean_squared_error: 84.8417     \n",
      "Epoch 12/100\n",
      "404/404 [==============================] - 0s - loss: 87.7717 - mean_squared_error: 87.7717       \n",
      "Epoch 13/100\n",
      "404/404 [==============================] - 0s - loss: 85.0872 - mean_squared_error: 85.0872     \n",
      "Epoch 14/100\n",
      "404/404 [==============================] - 0s - loss: 84.8504 - mean_squared_error: 84.8504     \n",
      "Epoch 15/100\n",
      "404/404 [==============================] - 0s - loss: 84.8099 - mean_squared_error: 84.8099       \n",
      "Epoch 16/100\n",
      "404/404 [==============================] - 0s - loss: 85.7601 - mean_squared_error: 85.7601     \n",
      "Epoch 17/100\n",
      "404/404 [==============================] - 0s - loss: 84.9864 - mean_squared_error: 84.9864       \n",
      "Epoch 18/100\n",
      "404/404 [==============================] - 0s - loss: 85.3446 - mean_squared_error: 85.3446       \n",
      "Epoch 19/100\n",
      "404/404 [==============================] - 0s - loss: 84.7233 - mean_squared_error: 84.7233     \n",
      "Epoch 20/100\n",
      "404/404 [==============================] - 0s - loss: 84.9950 - mean_squared_error: 84.9950     \n",
      "Epoch 21/100\n",
      "404/404 [==============================] - 0s - loss: 85.1990 - mean_squared_error: 85.1990     \n",
      "Epoch 22/100\n",
      "404/404 [==============================] - 0s - loss: 87.5164 - mean_squared_error: 87.5164       \n",
      "Epoch 23/100\n",
      "404/404 [==============================] - 0s - loss: 84.7100 - mean_squared_error: 84.7100     \n",
      "Epoch 24/100\n",
      "404/404 [==============================] - 0s - loss: 85.1856 - mean_squared_error: 85.1856       \n",
      "Epoch 25/100\n",
      "404/404 [==============================] - 0s - loss: 85.6986 - mean_squared_error: 85.6986     \n",
      "Epoch 26/100\n",
      "404/404 [==============================] - 0s - loss: 84.7724 - mean_squared_error: 84.7724     \n",
      "Epoch 27/100\n",
      "404/404 [==============================] - 0s - loss: 84.9230 - mean_squared_error: 84.9230       \n",
      "Epoch 28/100\n",
      "404/404 [==============================] - 0s - loss: 85.3195 - mean_squared_error: 85.3195     \n",
      "Epoch 29/100\n",
      "404/404 [==============================] - 0s - loss: 84.6715 - mean_squared_error: 84.6715     \n",
      "Epoch 30/100\n",
      "404/404 [==============================] - 0s - loss: 84.9151 - mean_squared_error: 84.9151     \n",
      "Epoch 31/100\n",
      "404/404 [==============================] - 0s - loss: 85.2012 - mean_squared_error: 85.2012     \n",
      "Epoch 32/100\n",
      "404/404 [==============================] - 0s - loss: 85.0632 - mean_squared_error: 85.0632     \n",
      "Epoch 33/100\n",
      "404/404 [==============================] - 0s - loss: 84.8419 - mean_squared_error: 84.8419     \n",
      "Epoch 34/100\n",
      "404/404 [==============================] - 0s - loss: 84.6967 - mean_squared_error: 84.6967     \n",
      "Epoch 35/100\n",
      "404/404 [==============================] - 0s - loss: 84.9308 - mean_squared_error: 84.9308       \n",
      "Epoch 36/100\n",
      "404/404 [==============================] - 0s - loss: 85.3248 - mean_squared_error: 85.3248     \n",
      "Epoch 37/100\n",
      "404/404 [==============================] - 0s - loss: 85.2356 - mean_squared_error: 85.2356     \n",
      "Epoch 38/100\n",
      "404/404 [==============================] - 0s - loss: 85.8569 - mean_squared_error: 85.8569     \n",
      "Epoch 39/100\n",
      "404/404 [==============================] - 0s - loss: 86.1793 - mean_squared_error: 86.1793       \n",
      "Epoch 40/100\n",
      "404/404 [==============================] - 0s - loss: 85.3820 - mean_squared_error: 85.3820       \n",
      "Epoch 41/100\n",
      "404/404 [==============================] - 0s - loss: 84.9091 - mean_squared_error: 84.9091     \n",
      "Epoch 42/100\n",
      "404/404 [==============================] - 0s - loss: 85.8347 - mean_squared_error: 85.8347     \n",
      "Epoch 43/100\n",
      "404/404 [==============================] - 0s - loss: 85.3150 - mean_squared_error: 85.3150     \n",
      "Epoch 44/100\n",
      "404/404 [==============================] - 0s - loss: 85.0711 - mean_squared_error: 85.0711     \n",
      "Epoch 45/100\n",
      "404/404 [==============================] - 0s - loss: 85.1218 - mean_squared_error: 85.1218       \n",
      "Epoch 46/100\n",
      "404/404 [==============================] - 0s - loss: 85.2019 - mean_squared_error: 85.2019     \n",
      "Epoch 47/100\n",
      "404/404 [==============================] - 0s - loss: 85.3579 - mean_squared_error: 85.3579       \n",
      "Epoch 48/100\n",
      "404/404 [==============================] - 0s - loss: 85.0274 - mean_squared_error: 85.0274     \n",
      "Epoch 49/100\n",
      "404/404 [==============================] - 0s - loss: 85.0018 - mean_squared_error: 85.0018     \n",
      "Epoch 50/100\n",
      "404/404 [==============================] - 0s - loss: 86.0471 - mean_squared_error: 86.0471       \n",
      "Epoch 51/100\n",
      "404/404 [==============================] - 0s - loss: 84.7493 - mean_squared_error: 84.7493     \n",
      "Epoch 52/100\n",
      "404/404 [==============================] - 0s - loss: 85.5193 - mean_squared_error: 85.5193     \n",
      "Epoch 53/100\n",
      "404/404 [==============================] - 0s - loss: 84.8643 - mean_squared_error: 84.8643     \n",
      "Epoch 54/100\n",
      "404/404 [==============================] - 0s - loss: 85.0801 - mean_squared_error: 85.0801       \n",
      "Epoch 55/100\n",
      "404/404 [==============================] - 0s - loss: 87.0643 - mean_squared_error: 87.0643     \n",
      "Epoch 56/100\n",
      "404/404 [==============================] - 0s - loss: 84.7161 - mean_squared_error: 84.7161     \n",
      "Epoch 57/100\n",
      "404/404 [==============================] - 0s - loss: 85.0350 - mean_squared_error: 85.0350       \n",
      "Epoch 58/100\n",
      "404/404 [==============================] - 0s - loss: 86.3177 - mean_squared_error: 86.3177     \n",
      "Epoch 59/100\n",
      "404/404 [==============================] - 0s - loss: 84.7966 - mean_squared_error: 84.7966     \n",
      "Epoch 60/100\n",
      "404/404 [==============================] - 0s - loss: 85.1970 - mean_squared_error: 85.1970     \n",
      "Epoch 61/100\n",
      "404/404 [==============================] - 0s - loss: 85.2180 - mean_squared_error: 85.2180     \n",
      "Epoch 62/100\n",
      "404/404 [==============================] - 0s - loss: 85.2994 - mean_squared_error: 85.2994       \n",
      "Epoch 63/100\n",
      "404/404 [==============================] - 0s - loss: 85.7682 - mean_squared_error: 85.7682     \n",
      "Epoch 64/100\n",
      "404/404 [==============================] - 0s - loss: 85.7339 - mean_squared_error: 85.7339     \n",
      "Epoch 65/100\n",
      "404/404 [==============================] - 0s - loss: 84.7868 - mean_squared_error: 84.7868     \n",
      "Epoch 66/100\n",
      "404/404 [==============================] - 0s - loss: 85.3279 - mean_squared_error: 85.3279     \n",
      "Epoch 67/100\n",
      "404/404 [==============================] - 0s - loss: 85.0802 - mean_squared_error: 85.0802     \n",
      "Epoch 68/100\n",
      "404/404 [==============================] - 0s - loss: 84.9168 - mean_squared_error: 84.9168     \n",
      "Epoch 69/100\n",
      "404/404 [==============================] - 0s - loss: 85.0594 - mean_squared_error: 85.0594     \n",
      "Epoch 70/100\n",
      "404/404 [==============================] - 0s - loss: 84.9797 - mean_squared_error: 84.9797     \n",
      "Epoch 71/100\n",
      "404/404 [==============================] - 0s - loss: 85.1336 - mean_squared_error: 85.1336     \n",
      "Epoch 72/100\n",
      "404/404 [==============================] - 0s - loss: 84.9662 - mean_squared_error: 84.9662     \n",
      "Epoch 73/100\n",
      "404/404 [==============================] - 0s - loss: 85.5091 - mean_squared_error: 85.5091       \n",
      "Epoch 74/100\n",
      "404/404 [==============================] - 0s - loss: 84.8404 - mean_squared_error: 84.8404     \n",
      "Epoch 75/100\n",
      "404/404 [==============================] - 0s - loss: 85.1509 - mean_squared_error: 85.1509     \n",
      "Epoch 76/100\n",
      "404/404 [==============================] - 0s - loss: 85.0498 - mean_squared_error: 85.0498     \n",
      "Epoch 77/100\n",
      "404/404 [==============================] - 0s - loss: 84.9154 - mean_squared_error: 84.9154     \n",
      "Epoch 78/100\n",
      "404/404 [==============================] - 0s - loss: 85.4065 - mean_squared_error: 85.4065     \n",
      "Epoch 79/100\n",
      "404/404 [==============================] - 0s - loss: 85.5158 - mean_squared_error: 85.5158       \n",
      "Epoch 80/100\n",
      "404/404 [==============================] - 0s - loss: 85.8390 - mean_squared_error: 85.8390       \n",
      "Epoch 81/100\n",
      "404/404 [==============================] - 0s - loss: 84.9558 - mean_squared_error: 84.9558       \n",
      "Epoch 82/100\n",
      "404/404 [==============================] - 0s - loss: 85.2476 - mean_squared_error: 85.2476     \n",
      "Epoch 83/100\n",
      "404/404 [==============================] - 0s - loss: 85.4141 - mean_squared_error: 85.4141     \n",
      "Epoch 84/100\n",
      "404/404 [==============================] - 0s - loss: 85.5331 - mean_squared_error: 85.5331     \n",
      "Epoch 85/100\n",
      "404/404 [==============================] - 0s - loss: 85.0226 - mean_squared_error: 85.0226     \n",
      "Epoch 86/100\n",
      "404/404 [==============================] - 0s - loss: 84.7831 - mean_squared_error: 84.7831     \n",
      "Epoch 87/100\n",
      "404/404 [==============================] - 0s - loss: 85.0852 - mean_squared_error: 85.0852       \n",
      "Epoch 88/100\n",
      "404/404 [==============================] - 0s - loss: 84.7431 - mean_squared_error: 84.7431     \n",
      "Epoch 89/100\n",
      "404/404 [==============================] - 0s - loss: 85.2406 - mean_squared_error: 85.2406     \n",
      "Epoch 90/100\n",
      "404/404 [==============================] - 0s - loss: 84.7335 - mean_squared_error: 84.7335     \n",
      "Epoch 91/100\n",
      "404/404 [==============================] - 0s - loss: 84.9932 - mean_squared_error: 84.9932     \n",
      "Epoch 92/100\n",
      "404/404 [==============================] - 0s - loss: 85.1405 - mean_squared_error: 85.1405     \n",
      "Epoch 93/100\n",
      "404/404 [==============================] - 0s - loss: 84.9763 - mean_squared_error: 84.9763     \n",
      "Epoch 94/100\n",
      "404/404 [==============================] - 0s - loss: 85.0472 - mean_squared_error: 85.0472     \n",
      "Epoch 95/100\n",
      "404/404 [==============================] - 0s - loss: 84.9403 - mean_squared_error: 84.9403     \n",
      "Epoch 96/100\n",
      "404/404 [==============================] - 0s - loss: 86.1331 - mean_squared_error: 86.1331     \n",
      "Epoch 97/100\n",
      "404/404 [==============================] - 0s - loss: 84.9275 - mean_squared_error: 84.9275       \n",
      "Epoch 98/100\n",
      "404/404 [==============================] - 0s - loss: 85.0029 - mean_squared_error: 85.0029     \n",
      "Epoch 99/100\n",
      "404/404 [==============================] - 0s - loss: 84.6680 - mean_squared_error: 84.6680     \n",
      "Epoch 100/100\n",
      "404/404 [==============================] - 0s - loss: 85.0727 - mean_squared_error: 85.0727     \n"
     ]
    }
   ],
   "source": [
    "history = model.fit(X_train, y_train, batch_size = 50, epochs = 100, verbose = 1)\n",
    "#history = model.fit(X_train, y_train, validation_split = 0.3, epochs = 100, verbose = 1)"
   ]
  },
  {
   "cell_type": "code",
   "execution_count": null,
   "metadata": {
    "collapsed": false
   },
   "outputs": [],
   "source": [
    "plt.plot(history.history['loss'])\n",
    "plt.legend(['loss'], loc = 'upper left')\n",
    "plt.show()"
   ]
  },
  {
   "cell_type": "markdown",
   "metadata": {},
   "source": [
    "### 3. Evaluation\n",
    "- Keras model can be evaluated with evaluate() function\n",
    "- Evaluation results are contained in a list\n",
    "    - Doc (metrics): https://keras.io/metrics/"
   ]
  },
  {
   "cell_type": "code",
   "execution_count": null,
   "metadata": {
    "collapsed": false
   },
   "outputs": [],
   "source": [
    "results = model.evaluate(X_test, y_test)"
   ]
  },
  {
   "cell_type": "code",
   "execution_count": null,
   "metadata": {
    "collapsed": false
   },
   "outputs": [],
   "source": [
    "print(model.metrics_names)     # list of metric names the model is employing\n",
    "print(results)                 # actual figure of metrics computed"
   ]
  },
  {
   "cell_type": "code",
   "execution_count": null,
   "metadata": {
    "collapsed": false
   },
   "outputs": [],
   "source": [
    "print('loss: ', results[0])\n",
    "print('mse: ', results[1])"
   ]
  },
  {
   "cell_type": "markdown",
   "metadata": {},
   "source": [
    "## MLP for classification tasks\n",
    "- When the target (**y**) is discrete (categorical)\n",
    "- For loss function, cross-entropy is used and for evaluation metric, accuracy is commonly used"
   ]
  },
  {
   "cell_type": "code",
   "execution_count": null,
   "metadata": {
    "collapsed": true
   },
   "outputs": [],
   "source": [
    "from sklearn.datasets import load_breast_cancer\n",
    "from sklearn.model_selection import train_test_split"
   ]
  },
  {
   "cell_type": "code",
   "execution_count": null,
   "metadata": {
    "collapsed": true
   },
   "outputs": [],
   "source": [
    "whole_data = load_breast_cancer()"
   ]
  },
  {
   "cell_type": "code",
   "execution_count": null,
   "metadata": {
    "collapsed": true
   },
   "outputs": [],
   "source": [
    "X_data = whole_data.data\n",
    "y_data = whole_data.target"
   ]
  },
  {
   "cell_type": "code",
   "execution_count": null,
   "metadata": {
    "collapsed": true
   },
   "outputs": [],
   "source": [
    "X_train, X_test, y_train, y_test = train_test_split(X_data, y_data, test_size = 0.3, random_state = 7) "
   ]
  },
  {
   "cell_type": "markdown",
   "metadata": {},
   "source": [
    "### Dataset Description\n",
    "- Breast cancer dataset has total 569 data instances (212 malign, 357 benign instances)\n",
    "- 30 attributes (features) to predict the binary class (M/B)\n",
    "- Doc: http://scikit-learn.org/stable/modules/generated/sklearn.datasets.load_breast_cancer.html#sklearn.datasets.load_breast_cancer"
   ]
  },
  {
   "cell_type": "code",
   "execution_count": null,
   "metadata": {
    "collapsed": false
   },
   "outputs": [],
   "source": [
    "print(X_train.shape)\n",
    "print(X_test.shape)\n",
    "print(y_train.shape)\n",
    "print(y_test.shape)"
   ]
  },
  {
   "cell_type": "markdown",
   "metadata": {},
   "source": [
    "### 1. Creating a model\n",
    "- Same with regression model at the outset"
   ]
  },
  {
   "cell_type": "code",
   "execution_count": null,
   "metadata": {
    "collapsed": true
   },
   "outputs": [],
   "source": [
    "from keras.models import Sequential"
   ]
  },
  {
   "cell_type": "code",
   "execution_count": null,
   "metadata": {
    "collapsed": true
   },
   "outputs": [],
   "source": [
    "model = Sequential()"
   ]
  },
  {
   "cell_type": "markdown",
   "metadata": {},
   "source": [
    "### 1-1. Adding layers\n",
    "- Keras layers can be **added** to the model\n",
    "- Adding layers are like stacking lego blocks one by one\n",
    "- It should be noted that as this is a classification problem, sigmoid layer (softmax for multi-class problems) should be added\n",
    "- Doc: https://keras.io/layers/core/"
   ]
  },
  {
   "cell_type": "code",
   "execution_count": null,
   "metadata": {
    "collapsed": true
   },
   "outputs": [],
   "source": [
    "# Keras model with two hidden layer with 10 neurons each \n",
    "model.add(Dense(10, input_shape = (30,)))    # Input layer => input_shape should be explicitly designated\n",
    "model.add(Activation('sigmoid'))\n",
    "model.add(Dense(10))                         # Hidden layer => only output dimension should be designated\n",
    "model.add(Activation('sigmoid'))\n",
    "model.add(Dense(10))                         # Hidden layer => only output dimension should be designated\n",
    "model.add(Activation('sigmoid'))\n",
    "model.add(Dense(1))                          # Output layer => output dimension = 1 since it is regression problem\n",
    "model.add(Activation('sigmoid'))"
   ]
  },
  {
   "cell_type": "code",
   "execution_count": null,
   "metadata": {
    "collapsed": true
   },
   "outputs": [],
   "source": [
    "# This is equivalent to the above code block\n",
    "model.add(Dense(10, input_shape = (13,), activation = 'sigmoid'))\n",
    "model.add(Dense(10, activation = 'sigmoid'))\n",
    "model.add(Dense(10, activation = 'sigmoid'))\n",
    "model.add(Dense(1, activation = 'sigmoid'))"
   ]
  },
  {
   "cell_type": "markdown",
   "metadata": {},
   "source": [
    "### 1-2. Model compile\n",
    "- Keras model should be \"compiled\" prior to training\n",
    "- Types of loss (function) and optimizer should be designated\n",
    "    - Doc (optimizers): https://keras.io/optimizers/\n",
    "    - Doc (losses): https://keras.io/losses/"
   ]
  },
  {
   "cell_type": "code",
   "execution_count": null,
   "metadata": {
    "collapsed": true
   },
   "outputs": [],
   "source": [
    "from keras import optimizers"
   ]
  },
  {
   "cell_type": "code",
   "execution_count": null,
   "metadata": {
    "collapsed": true
   },
   "outputs": [],
   "source": [
    "sgd = optimizers.SGD(lr = 0.01)    # stochastic gradient descent optimizer"
   ]
  },
  {
   "cell_type": "code",
   "execution_count": null,
   "metadata": {
    "collapsed": true
   },
   "outputs": [],
   "source": [
    "model.compile(optimizer = sgd, loss = 'binary_crossentropy', metrics = ['accuracy'])"
   ]
  },
  {
   "cell_type": "markdown",
   "metadata": {},
   "source": [
    "### Summary of the model"
   ]
  },
  {
   "cell_type": "code",
   "execution_count": null,
   "metadata": {
    "collapsed": false,
    "scrolled": true
   },
   "outputs": [],
   "source": [
    "model.summary()"
   ]
  },
  {
   "cell_type": "markdown",
   "metadata": {},
   "source": [
    "### 2. Training\n",
    "- Training the model with training data provided"
   ]
  },
  {
   "cell_type": "code",
   "execution_count": null,
   "metadata": {
    "collapsed": false,
    "scrolled": true
   },
   "outputs": [],
   "source": [
    "history = model.fit(X_train, y_train, batch_size = 50, validation_split = 0.3, epochs = 100, verbose = 1)"
   ]
  },
  {
   "cell_type": "code",
   "execution_count": null,
   "metadata": {
    "collapsed": false
   },
   "outputs": [],
   "source": [
    "%matplotlib inline  \n",
    "plt.plot(history.history['acc'])\n",
    "plt.plot(history.history['val_acc'])\n",
    "plt.legend(['training','validation'], loc = 'upper left')\n",
    "plt.show()"
   ]
  },
  {
   "cell_type": "markdown",
   "metadata": {},
   "source": [
    "### 3. Evaluation\n",
    "- Keras model can be evaluated with evaluate() function\n",
    "- Evaluation results are contained in a list\n",
    "    - Doc (metrics): https://keras.io/metrics/"
   ]
  },
  {
   "cell_type": "code",
   "execution_count": null,
   "metadata": {
    "collapsed": false
   },
   "outputs": [],
   "source": [
    "results = model.evaluate(X_test, y_test)"
   ]
  },
  {
   "cell_type": "code",
   "execution_count": null,
   "metadata": {
    "collapsed": false
   },
   "outputs": [],
   "source": [
    "print(model.metrics_names)     # list of metric names the model is employing\n",
    "print(results)                 # actual figure of metrics computed"
   ]
  },
  {
   "cell_type": "code",
   "execution_count": null,
   "metadata": {
    "collapsed": false
   },
   "outputs": [],
   "source": [
    "print('loss: ', results[0])\n",
    "print('accuracy: ', results[1])"
   ]
  },
  {
   "cell_type": "code",
   "execution_count": null,
   "metadata": {
    "collapsed": true
   },
   "outputs": [],
   "source": []
  }
 ],
 "metadata": {
  "kernelspec": {
   "display_name": "Python 2",
   "language": "python",
   "name": "python2"
  },
  "language_info": {
   "codemirror_mode": {
    "name": "ipython",
    "version": 2
   },
   "file_extension": ".py",
   "mimetype": "text/x-python",
   "name": "python",
   "nbconvert_exporter": "python",
   "pygments_lexer": "ipython2",
   "version": "2.7.14"
  }
 },
 "nbformat": 4,
 "nbformat_minor": 2
}
