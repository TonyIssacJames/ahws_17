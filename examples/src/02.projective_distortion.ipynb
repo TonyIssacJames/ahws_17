{
 "cells": [
  {
   "cell_type": "markdown",
   "metadata": {},
   "source": [
    "# Projective Transformation Estimation\n",
    "In this workbook we will be estimating homoraphy. This deals with projective distortion in camera images and with\n",
    "estimating homographies between images. You are given two images, Figures 1a and 1b, and your homework involves merging the two in the manner described below. In case you did not know, Figure 1b is a photo of Audrey Hepburn, one of the most famous movie stars.\n",
    "(a)\n",
    "(b)"
   ]
  },
  {
   "cell_type": "code",
   "execution_count": 2,
   "metadata": {},
   "outputs": [],
   "source": [
    "import numpy as np\n",
    "import cv2\n",
    "import math"
   ]
  },
  {
   "cell_type": "code",
   "execution_count": 3,
   "metadata": {},
   "outputs": [],
   "source": [
    "img1=cv2.imread('../data/projective_distortion/Frame.jpg')\n",
    "img2=cv2.imread('../data/projective_distortion/Audrey.jpg')"
   ]
  },
  {
   "cell_type": "code",
   "execution_count": 4,
   "metadata": {},
   "outputs": [
    {
     "data": {
      "text/plain": [
       "array([[[0, 0, 0],\n",
       "        [0, 0, 0],\n",
       "        [0, 0, 0],\n",
       "        ..., \n",
       "        [0, 0, 0],\n",
       "        [0, 0, 0],\n",
       "        [0, 0, 0]],\n",
       "\n",
       "       [[0, 0, 0],\n",
       "        [0, 0, 0],\n",
       "        [0, 0, 0],\n",
       "        ..., \n",
       "        [0, 0, 0],\n",
       "        [0, 0, 0],\n",
       "        [0, 0, 0]],\n",
       "\n",
       "       [[0, 0, 0],\n",
       "        [0, 0, 0],\n",
       "        [0, 0, 0],\n",
       "        ..., \n",
       "        [0, 0, 0],\n",
       "        [0, 0, 0],\n",
       "        [0, 0, 0]],\n",
       "\n",
       "       ..., \n",
       "       [[0, 0, 0],\n",
       "        [0, 0, 0],\n",
       "        [0, 0, 0],\n",
       "        ..., \n",
       "        [0, 0, 0],\n",
       "        [0, 0, 0],\n",
       "        [0, 0, 0]],\n",
       "\n",
       "       [[0, 0, 0],\n",
       "        [0, 0, 0],\n",
       "        [0, 0, 0],\n",
       "        ..., \n",
       "        [0, 0, 0],\n",
       "        [0, 0, 0],\n",
       "        [0, 0, 0]],\n",
       "\n",
       "       [[0, 0, 0],\n",
       "        [0, 0, 0],\n",
       "        [0, 0, 0],\n",
       "        ..., \n",
       "        [0, 0, 0],\n",
       "        [0, 0, 0],\n",
       "        [0, 0, 0]]], dtype=uint8)"
      ]
     },
     "execution_count": 4,
     "metadata": {},
     "output_type": "execute_result"
    }
   ],
   "source": [
    "##draw the selected region\n",
    "img3= np.zeros((img1.shape[0],img1.shape[1],3),dtype='uint8')\n",
    "pts = np.array([[186,152],[346,176],[342,433],[184,462]],np.int32)\n",
    "pts = pts.reshape((-1,1,2))\n",
    "cv2.fillPoly(img3,[pts],(255,255,255))"
   ]
  },
  {
   "cell_type": "code",
   "execution_count": 5,
   "metadata": {},
   "outputs": [],
   "source": [
    "## get the color of a pixel in photo from 'real painting'\n",
    "def getcolor(point, img):\n",
    "  p =img[int(math.floor(point[0,0])%img.shape[0]),int(math.floor(point[0,1])%img.shape[1])]\n",
    "  q =img[int(math.floor(point[0,0])%img.shape[0]),int(math.floor(point[0,1]+1)%img.shape[1])]\n",
    "  r =img[int(math.floor(point[0,0]+1)%img.shape[0]),int(math.floor(point[0,1])%img.shape[1])]\n",
    "  s =img[int(math.floor(point[0,0]+1)%img.shape[0]),int(math.floor(point[0,1]+1)%img.shape[1])]\n",
    "  x = point[0,0] - math.floor(point[0,0])\n",
    "  y = point[0,1] - math.floor(point[0,1])\n",
    "  pweight= pow(pow(x,2)+pow(y,2),-0.5)\n",
    "  qweight = pow(pow(x,2)+pow(1-y,2),-0.5)\n",
    "  rweight = pow(pow(1-x,2)+pow(y,2),-0.5)\n",
    "  sweight = pow(pow(1-x,2)+pow(1-y,2),-0.5)\n",
    "  newpoint =(p*pweight+q*qweight+r*rweight+s*sweight)/(pweight+qweight+rweight+sweight)\n",
    "  return newpoint"
   ]
  },
  {
   "cell_type": "code",
   "execution_count": 6,
   "metadata": {},
   "outputs": [],
   "source": [
    "##set up the P.Q.R.S and there corresponding points in img2\n",
    "p = np.matrix('152 186 1',dtype=float)\n",
    "q = np.matrix('176 346 1',dtype=float)\n",
    "r = np.matrix('462 184 1',dtype=float)\n",
    "s = np.matrix('433 342 1',dtype=float)\n",
    "pr = np.matrix('0 0 1',dtype=float)\n",
    "qr = np.matrix('0 0 1',dtype=float)\n",
    "qr[0,1] = img2.shape[1]\n",
    "rr = np.matrix('0 0 1',dtype=float)\n",
    "rr[0,0] = img2.shape[0]\n",
    "sr = np.matrix('0 0 1',dtype=float)\n",
    "sr[0,0] = img2.shape[0]\n",
    "sr[0,1] = img2.shape[1]\n",
    "paraMatrix = np.zeros((8,8),dtype=float)\n",
    "paraMatrix = np.matrix(paraMatrix,dtype=float)"
   ]
  },
  {
   "cell_type": "code",
   "execution_count": 7,
   "metadata": {},
   "outputs": [
    {
     "name": "stdout",
     "output_type": "stream",
     "text": [
      "[[  1.33106671e+00  -1.99660007e-01  -1.65185379e+02]\n",
      " [  1.37967809e-02   2.13850103e+00  -3.99858303e+02]\n",
      " [ -5.27276221e-05  -8.83633997e-04   1.00000000e+00]]\n"
     ]
    }
   ],
   "source": [
    "#Transform: Photo => realFigure\n",
    "##get ready for paraMatrix*parameter=Rvector\n",
    "paraMatrix[0,0:3] = p\n",
    "paraMatrix[0,6:9] = p[0,0:2]*(-1)*pr[0,0]\n",
    "paraMatrix[1,3:6] = p\n",
    "paraMatrix[1,6:9] = p[0,0:2]*(-1)*pr[0,1]\n",
    "paraMatrix[2,0:3] = q\n",
    "paraMatrix[2,6:9] = q[0,0:2]*(-1)*qr[0,0]\n",
    "paraMatrix[3,3:6] = q\n",
    "paraMatrix[3,6:9] = q[0,0:2]*(-1)*qr[0,1]\n",
    "paraMatrix[4,0:3] = r\n",
    "paraMatrix[4,6:9] = r[0,0:2]*(-1)*rr[0,0]\n",
    "paraMatrix[5,3:6] = r\n",
    "paraMatrix[5,6:9] = r[0,0:2]*(-1)*rr[0,1]\n",
    "paraMatrix[6,0:3] = s\n",
    "paraMatrix[6,6:9] = s[0,0:2]*(-1)*sr[0,0]\n",
    "paraMatrix[7,3:6] = s\n",
    "paraMatrix[7,6:9] = s[0,0:2]*(-1)*sr[0,1]\n",
    "Rvector = np.matrix('0 0 0 0 0 0 0 0',dtype=float)\n",
    "Rvector[0,0:2] = pr[0,0:2]\n",
    "Rvector[0,2:4] = qr[0,0:2]\n",
    "Rvector[0,4:6] = rr[0,0:2]\n",
    "Rvector[0,6:8] = sr[0,0:2]\n",
    "parameter = paraMatrix.I*Rvector.T\n",
    "parameter = parameter.T\n",
    "H = np.zeros((3,3),dtype=float)\n",
    "H[0] = parameter[0,0:3]\n",
    "H[1] = parameter[0,3:6]\n",
    "H[2,0:2] = parameter[0,6:8]\n",
    "H[2,2] = 1\n",
    "print(H)"
   ]
  },
  {
   "cell_type": "code",
   "execution_count": 8,
   "metadata": {},
   "outputs": [],
   "source": [
    "##get every pixel-on-the-door's new color\n",
    "temp = np.matrix('0 0 1',dtype=float)\n",
    "for row in range(0,img1.shape[0]):\n",
    "  for column in range(0,img1.shape[1]):\n",
    "    if img3[row,column,1] > 0:\n",
    "      temp[0,0] = row\n",
    "      temp[0,1] = column\n",
    "      tr = H*temp.T\n",
    "      tr = tr.T\n",
    "      tr = tr/tr[0,2]\n",
    "      img1[row,column]=getcolor(tr,img2)"
   ]
  },
  {
   "cell_type": "code",
   "execution_count": 13,
   "metadata": {},
   "outputs": [
    {
     "data": {
      "text/plain": [
       "32"
      ]
     },
     "execution_count": 13,
     "metadata": {},
     "output_type": "execute_result"
    }
   ],
   "source": [
    "cv2.imshow('image',img1); cv2.waitKey(0)"
   ]
  },
  {
   "cell_type": "code",
   "execution_count": 14,
   "metadata": {},
   "outputs": [
    {
     "name": "stdout",
     "output_type": "stream",
     "text": [
      "The end!\n"
     ]
    }
   ],
   "source": [
    "print('The end!')"
   ]
  }
 ],
 "metadata": {
  "kernelspec": {
   "display_name": "Python 3",
   "language": "python",
   "name": "python3"
  },
  "language_info": {
   "codemirror_mode": {
    "name": "ipython",
    "version": 3
   },
   "file_extension": ".py",
   "mimetype": "text/x-python",
   "name": "python",
   "nbconvert_exporter": "python",
   "pygments_lexer": "ipython3",
   "version": "3.5.3"
  }
 },
 "nbformat": 4,
 "nbformat_minor": 2
}
